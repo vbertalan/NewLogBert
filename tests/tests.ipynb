{
 "cells": [
  {
   "cell_type": "code",
   "execution_count": null,
   "metadata": {},
   "outputs": [
    {
     "name": "stdout",
     "output_type": "stream",
     "text": [
      "/home/vbertalan/Downloads/Projetos/NewLogBERT/NewLogBert/tests\n",
      "<class 'bert_pytorch.model.log_model.BERTLog'>\n",
      "BERTLog(\n",
      "  (bert): BERT(\n",
      "    (embedding): BERTEmbedding(\n",
      "      (token): TokenEmbedding(20, 256, padding_idx=0)\n",
      "      (position): PositionalEmbedding()\n",
      "      (segment): SegmentEmbedding(3, 256, padding_idx=0)\n",
      "      (time_embed): TimeEmbedding(\n",
      "        (time_embed): Linear(in_features=1, out_features=256, bias=True)\n",
      "      )\n",
      "      (dropout): Dropout(p=0.1, inplace=False)\n",
      "    )\n",
      "    (transformer_blocks): ModuleList(\n",
      "      (0-3): 4 x TransformerBlock(\n",
      "        (attention): MultiHeadedAttention(\n",
      "          (linear_layers): ModuleList(\n",
      "            (0-2): 3 x Linear(in_features=256, out_features=256, bias=True)\n",
      "          )\n",
      "          (output_linear): Linear(in_features=256, out_features=256, bias=True)\n",
      "          (attention): Attention()\n",
      "          (dropout): Dropout(p=0.1, inplace=False)\n",
      "        )\n",
      "        (feed_forward): PositionwiseFeedForward(\n",
      "          (w_1): Linear(in_features=256, out_features=512, bias=True)\n",
      "          (w_2): Linear(in_features=512, out_features=256, bias=True)\n",
      "          (dropout): Dropout(p=0.1, inplace=False)\n",
      "          (activation): GELU()\n",
      "        )\n",
      "        (input_sublayer): SublayerConnection(\n",
      "          (norm): LayerNorm()\n",
      "          (dropout): Dropout(p=0.1, inplace=False)\n",
      "        )\n",
      "        (output_sublayer): SublayerConnection(\n",
      "          (norm): LayerNorm()\n",
      "          (dropout): Dropout(p=0.1, inplace=False)\n",
      "        )\n",
      "        (dropout): Dropout(p=0.1, inplace=False)\n",
      "      )\n",
      "    )\n",
      "  )\n",
      "  (mask_lm): MaskedLogModel(\n",
      "    (linear): Linear(in_features=256, out_features=20, bias=True)\n",
      "    (softmax): LogSoftmax(dim=-1)\n",
      "  )\n",
      "  (time_lm): TimeLogModel(\n",
      "    (linear): Linear(in_features=256, out_features=1, bias=True)\n",
      "  )\n",
      ")\n"
     ]
    }
   ],
   "source": [
    "import os\n",
    "import sys\n",
    "import torch\n",
    "\n",
    "sys.path.append('../')\n",
    "output_dir = \"/home/vbertalan/Downloads/Projetos/NewLogBERT/NewLogBert/output/hdfs/bert/\"\n",
    "\n",
    "# Load the saved file\n",
    "checkpoint = torch.load(output_dir + \"best_bert.pth\")\n",
    "\n",
    "# Print its type and content (partial)\n",
    "print(type(checkpoint))\n",
    "print(checkpoint)"
   ]
  }
 ],
 "metadata": {
  "kernelspec": {
   "display_name": "base",
   "language": "python",
   "name": "python3"
  },
  "language_info": {
   "codemirror_mode": {
    "name": "ipython",
    "version": 3
   },
   "file_extension": ".py",
   "mimetype": "text/x-python",
   "name": "python",
   "nbconvert_exporter": "python",
   "pygments_lexer": "ipython3",
   "version": "3.9.19"
  }
 },
 "nbformat": 4,
 "nbformat_minor": 2
}
